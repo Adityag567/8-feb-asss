{
 "cells": [
  {
   "cell_type": "code",
   "execution_count": null,
   "id": "34f29403-17dc-4fed-b5cb-6d3e1d001595",
   "metadata": {},
   "outputs": [],
   "source": [
    "Q1. What is Abstraction in OOps? Explain with an example."
   ]
  },
  {
   "cell_type": "code",
   "execution_count": null,
   "id": "afa6dbbf-1014-4163-893a-745b24352839",
   "metadata": {},
   "outputs": [],
   "source": [
    "\"\"\"Abstraction is the process of hiding the internal details of an \n",
    "application from the outer world\"\"\"  \n",
    "#it is skeleton of class this functions are used in all class but with different definations\n",
    "import abc\n",
    "class pw:\n",
    "    @abc.abstractmethod\n",
    "    def studdet(self):\n",
    "        pass\n",
    "    \n",
    "    @abc.abstractmethod\n",
    "    def stud_ass(self):\n",
    "        pass\n",
    "\n",
    "class student_details(pw):\n",
    "    def studdet(self):\n",
    "        return \"this take details\"\n",
    "    def stud_ass(self):\n",
    "        return \"this is assign\"\n",
    "   "
   ]
  },
  {
   "cell_type": "code",
   "execution_count": null,
   "id": "36ad3b66-b16d-45ab-980b-d8026e2a7a37",
   "metadata": {},
   "outputs": [],
   "source": [
    "Q2. Differentiate between Abstraction and Encapsulation. Explain with an example."
   ]
  },
  {
   "cell_type": "code",
   "execution_count": null,
   "id": "e4a711e9-51d8-4961-8378-98b768abbd0d",
   "metadata": {},
   "outputs": [],
   "source": [
    "\"\"\"Abstraction is a process of hiding the implementation details of a \n",
    "system from the user, and only the functional details will be \n",
    "available to the user end. On the other hand, Encapsulation is a\n",
    "method of wrapping up the data and code acting on the data into a \n",
    "single unit\"\"\""
   ]
  },
  {
   "cell_type": "code",
   "execution_count": null,
   "id": "68cb2a15-faf4-4b1b-b9fc-1d87dcf1b6b0",
   "metadata": {},
   "outputs": [],
   "source": [
    "Q3. What is abc module in python? Why is it used?"
   ]
  },
  {
   "cell_type": "code",
   "execution_count": null,
   "id": "478ae088-db5f-47b4-9fbe-dafb8a81c96f",
   "metadata": {},
   "outputs": [],
   "source": [
    "For larger projects, it is impossible to remember the class details, \n",
    "and also the reusability of code can increase the bug. Therefore,\n",
    "it plays a crucial role in our projects.\n",
    "By default, Python does not provide abstract classes. The ‘abc’\n",
    "module in the Python library provides the infrastructure for\n",
    "defining custom abstract base classes.\n",
    "Abstract class cannot be instantiated in python. An Abstract method can be call by its subclasses."
   ]
  },
  {
   "cell_type": "code",
   "execution_count": null,
   "id": "8ff902e7-a98d-4a9d-96e3-04f060c3f2c3",
   "metadata": {},
   "outputs": [],
   "source": [
    "Q4. How can we achieve data abstraction?"
   ]
  },
  {
   "cell_type": "code",
   "execution_count": null,
   "id": "bae8eebc-2649-410a-b2af-d564c8f0fac1",
   "metadata": {},
   "outputs": [],
   "source": [
    " In Python, abstraction can be achieved by having/using abstract classes and methods in our programs.\n",
    "    An abstract method is a method that is declared, but does not contain implementation"
   ]
  },
  {
   "cell_type": "code",
   "execution_count": null,
   "id": "f6ec71ed-a400-4d25-bf4d-e823b60139fa",
   "metadata": {},
   "outputs": [],
   "source": [
    "Q5. Can we create an instance of an abstract class? Explain your answer."
   ]
  },
  {
   "cell_type": "code",
   "execution_count": null,
   "id": "e734c95a-5654-4ee9-a3a8-f56e8211bba4",
   "metadata": {},
   "outputs": [],
   "source": [
    "Abstract classes are not complete, as they may have some methods that are not defined. So we cannot create an instance or object of an abstract class in Pyth"
   ]
  },
  {
   "cell_type": "code",
   "execution_count": null,
   "id": "55cfe7a2-7eac-497e-a1bf-50c383aad07f",
   "metadata": {},
   "outputs": [],
   "source": []
  }
 ],
 "metadata": {
  "kernelspec": {
   "display_name": "Python 3 (ipykernel)",
   "language": "python",
   "name": "python3"
  },
  "language_info": {
   "codemirror_mode": {
    "name": "ipython",
    "version": 3
   },
   "file_extension": ".py",
   "mimetype": "text/x-python",
   "name": "python",
   "nbconvert_exporter": "python",
   "pygments_lexer": "ipython3",
   "version": "3.10.8"
  }
 },
 "nbformat": 4,
 "nbformat_minor": 5
}
